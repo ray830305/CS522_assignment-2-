{
 "cells": [
  {
   "cell_type": "markdown",
   "id": "9c90af5c",
   "metadata": {},
   "source": [
    "# Approach 1"
   ]
  },
  {
   "cell_type": "code",
   "execution_count": null,
   "id": "b710f82a",
   "metadata": {},
   "outputs": [],
   "source": [
    "!pip install pyaudio"
   ]
  },
  {
   "cell_type": "code",
   "execution_count": null,
   "id": "dd74f8f5",
   "metadata": {},
   "outputs": [],
   "source": [
    "!pip install pyaudio\n",
    "import pyaudio\n",
    "import wave\n",
    "\n",
    "CHUNK=1024\n",
    "FORMAT=pyaudio.paInt16\n",
    "CHANNELS=1\n",
    "RATE=44100\n",
    "\n",
    "p=pyaudio.PyAudio()\n",
    "stream=p.open(format=FORMAT,channels=CHANNELS,rate=RATE,input=True,frames_per_buffer=CHUNK)\n",
    "print(\"start recording...\")\n",
    "frames=[]\n",
    "\n",
    "try:\n",
    "    while True:\n",
    "        data=stream.read(CHUNK)\n",
    "        frames.append(data)\n",
    "\n",
    "except KeyboardInterrupt:\n",
    "    pass\n",
    "\n",
    "print(\"recording stopped\")\n",
    "stream.stop_stream()\n",
    "stream.close()\n",
    "p.terminate()\n",
    "\n",
    "wf=wave.open(\"output.wav\",\"wb\")\n",
    "wf.setnchannels(CHANNELS)\n",
    "wf.setsampwidth(p.get_sample_size(FORMAT))\n",
    "wf.setframerate(RATE)\n",
    "wf.writeframes(b''.join(frames))\n",
    "wf.close()\n"
   ]
  },
  {
   "cell_type": "markdown",
   "id": "f8e03da6",
   "metadata": {},
   "source": [
    "# Approach 2"
   ]
  },
  {
   "cell_type": "code",
   "execution_count": null,
   "id": "3acf8c3a",
   "metadata": {},
   "outputs": [],
   "source": [
    "!pip install pyshine==0.0.6\n",
    "!pip install opencv-python\n"
   ]
  },
  {
   "cell_type": "code",
   "execution_count": null,
   "id": "4f244e98",
   "metadata": {},
   "outputs": [],
   "source": [
    "audio,context = ps.audioCapture(mode='send')\n",
    "ps.showPlot(context,name='pyshine.com')\n",
    "while True:\n",
    "    frame = audio.get()"
   ]
  }
 ],
 "metadata": {
  "kernelspec": {
   "display_name": "Python 3 (ipykernel)",
   "language": "python",
   "name": "python3"
  },
  "language_info": {
   "codemirror_mode": {
    "name": "ipython",
    "version": 3
   },
   "file_extension": ".py",
   "mimetype": "text/x-python",
   "name": "python",
   "nbconvert_exporter": "python",
   "pygments_lexer": "ipython3",
   "version": "3.9.12"
  }
 },
 "nbformat": 4,
 "nbformat_minor": 5
}
